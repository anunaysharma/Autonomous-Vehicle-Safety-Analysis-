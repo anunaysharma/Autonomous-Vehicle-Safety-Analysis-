{
 "cells": [
  {
   "cell_type": "markdown",
   "metadata": {
    "colab_type": "text",
    "id": "hvrJKRwceABY"
   },
   "source": [
    "# Mini Project 1 - CS498 Data Science and Analytics"
   ]
  },
  {
   "cell_type": "markdown",
   "metadata": {
    "colab_type": "text",
    "id": "IIom3PCteABc"
   },
   "source": [
    "<b>Group Members: Aniruddha Sharma (ashar29),  Anunay Sharma (anunays2), Badrinarayanan Rajasekaran (br17)</b>"
   ]
  },
  {
   "cell_type": "code",
   "execution_count": null,
   "metadata": {
    "colab": {},
    "colab_type": "code",
    "id": "kz42E4pT2LDl"
   },
   "outputs": [],
   "source": [
    "#If you need to change the directory, then we use the os package\n",
    "import os \n",
    "os.chdir ('C:\\\\Users\\\\Anunay\\\\Documents\\\\CS 498\\\\MP\\\\MP1\\\\')"
   ]
  },
  {
   "cell_type": "code",
   "execution_count": 49,
   "metadata": {
    "colab": {},
    "colab_type": "code",
    "id": "SpQTPIyx3Tvj"
   },
   "outputs": [],
   "source": [
    "#Import all the necessary packages for this analysis\n",
    "\n",
    "import pandas as pd\n",
    "import os\n",
    "import numpy as np\n",
    "import matplotlib.pyplot as plt\n",
    "import datetime\n",
    "from scipy import stats\n",
    "import seaborn as sns\n",
    "%matplotlib inline"
   ]
  },
  {
   "cell_type": "code",
   "execution_count": 50,
   "metadata": {
    "colab": {
     "base_uri": "https://localhost:8080/",
     "height": 195
    },
    "colab_type": "code",
    "id": "cyXkBvAR3Xvm",
    "outputId": "89ca229c-2ef3-4b0e-b01d-23d972f56f97"
   },
   "outputs": [
    {
     "data": {
      "text/html": [
       "<div>\n",
       "<style scoped>\n",
       "    .dataframe tbody tr th:only-of-type {\n",
       "        vertical-align: middle;\n",
       "    }\n",
       "\n",
       "    .dataframe tbody tr th {\n",
       "        vertical-align: top;\n",
       "    }\n",
       "\n",
       "    .dataframe thead th {\n",
       "        text-align: right;\n",
       "    }\n",
       "</style>\n",
       "<table border=\"1\" class=\"dataframe\">\n",
       "  <thead>\n",
       "    <tr style=\"text-align: right;\">\n",
       "      <th></th>\n",
       "      <th>Month</th>\n",
       "      <th>Car</th>\n",
       "      <th>Location</th>\n",
       "      <th>Weather</th>\n",
       "      <th>TypeOfTrigger</th>\n",
       "      <th>ReactionTime</th>\n",
       "      <th>Cause</th>\n",
       "    </tr>\n",
       "  </thead>\n",
       "  <tbody>\n",
       "    <tr>\n",
       "      <th>0</th>\n",
       "      <td>14-Sep</td>\n",
       "      <td>WDD2221851A001072</td>\n",
       "      <td>urban-street</td>\n",
       "      <td>cloudy</td>\n",
       "      <td>automatic</td>\n",
       "      <td>0.58</td>\n",
       "      <td>Incorrect Traffic Light Detection</td>\n",
       "    </tr>\n",
       "    <tr>\n",
       "      <th>1</th>\n",
       "      <td>14-Sep</td>\n",
       "      <td>WDD2221851A001072</td>\n",
       "      <td>urban-street</td>\n",
       "      <td>cloudy</td>\n",
       "      <td>automatic</td>\n",
       "      <td>0.66</td>\n",
       "      <td>Adverse road surface conditions</td>\n",
       "    </tr>\n",
       "    <tr>\n",
       "      <th>2</th>\n",
       "      <td>14-Sep</td>\n",
       "      <td>WDD2221851A001072</td>\n",
       "      <td>urban-street</td>\n",
       "      <td>cloudy</td>\n",
       "      <td>automatic</td>\n",
       "      <td>1.93</td>\n",
       "      <td>Position Estimation Failure</td>\n",
       "    </tr>\n",
       "    <tr>\n",
       "      <th>3</th>\n",
       "      <td>14-Sep</td>\n",
       "      <td>WDD2221851A001072</td>\n",
       "      <td>urban-street</td>\n",
       "      <td>cloudy</td>\n",
       "      <td>automatic</td>\n",
       "      <td>0.65</td>\n",
       "      <td>Emergency Vehicle</td>\n",
       "    </tr>\n",
       "    <tr>\n",
       "      <th>4</th>\n",
       "      <td>14-Sep</td>\n",
       "      <td>WDD2221851A001072</td>\n",
       "      <td>urban-street</td>\n",
       "      <td>cloudy</td>\n",
       "      <td>automatic</td>\n",
       "      <td>0.64</td>\n",
       "      <td>Adverse road surface conditions</td>\n",
       "    </tr>\n",
       "  </tbody>\n",
       "</table>\n",
       "</div>"
      ],
      "text/plain": [
       "    Month                Car      Location Weather TypeOfTrigger  \\\n",
       "0  14-Sep  WDD2221851A001072  urban-street  cloudy     automatic   \n",
       "1  14-Sep  WDD2221851A001072  urban-street  cloudy     automatic   \n",
       "2  14-Sep  WDD2221851A001072  urban-street  cloudy     automatic   \n",
       "3  14-Sep  WDD2221851A001072  urban-street  cloudy     automatic   \n",
       "4  14-Sep  WDD2221851A001072  urban-street  cloudy     automatic   \n",
       "\n",
       "   ReactionTime                              Cause  \n",
       "0          0.58  Incorrect Traffic Light Detection  \n",
       "1          0.66    Adverse road surface conditions  \n",
       "2          1.93        Position Estimation Failure  \n",
       "3          0.65                  Emergency Vehicle  \n",
       "4          0.64    Adverse road surface conditions  "
      ]
     },
     "execution_count": 50,
     "metadata": {},
     "output_type": "execute_result"
    }
   ],
   "source": [
    "df_diseng = pd.read_csv(\"mp1_av_disengagements.csv\") #pd.read_csv to import the notebook\n",
    "df_diseng.head() #Displays the top n rows of the dataset"
   ]
  },
  {
   "cell_type": "code",
   "execution_count": 51,
   "metadata": {
    "colab": {
     "base_uri": "https://localhost:8080/",
     "height": 195
    },
    "colab_type": "code",
    "id": "a2bW0yPM3Xpo",
    "outputId": "c19cbda2-7693-4010-f05c-f96f51036ec2"
   },
   "outputs": [
    {
     "data": {
      "text/html": [
       "<div>\n",
       "<style scoped>\n",
       "    .dataframe tbody tr th:only-of-type {\n",
       "        vertical-align: middle;\n",
       "    }\n",
       "\n",
       "    .dataframe tbody tr th {\n",
       "        vertical-align: top;\n",
       "    }\n",
       "\n",
       "    .dataframe thead th {\n",
       "        text-align: right;\n",
       "    }\n",
       "</style>\n",
       "<table border=\"1\" class=\"dataframe\">\n",
       "  <thead>\n",
       "    <tr style=\"text-align: right;\">\n",
       "      <th></th>\n",
       "      <th>Month</th>\n",
       "      <th>Car</th>\n",
       "      <th>miles driven in autonomous mode</th>\n",
       "      <th>total number of disengagements</th>\n",
       "      <th>number of automatic disengagements</th>\n",
       "      <th>number of manual disengagements</th>\n",
       "    </tr>\n",
       "  </thead>\n",
       "  <tbody>\n",
       "    <tr>\n",
       "      <th>0</th>\n",
       "      <td>14-Sep</td>\n",
       "      <td>WDD2221851A001072</td>\n",
       "      <td>4207</td>\n",
       "      <td>44</td>\n",
       "      <td>24</td>\n",
       "      <td>20</td>\n",
       "    </tr>\n",
       "    <tr>\n",
       "      <th>1</th>\n",
       "      <td>14-Oct</td>\n",
       "      <td>WDD2221851A001072</td>\n",
       "      <td>23971</td>\n",
       "      <td>228</td>\n",
       "      <td>100</td>\n",
       "      <td>128</td>\n",
       "    </tr>\n",
       "    <tr>\n",
       "      <th>2</th>\n",
       "      <td>14-Nov</td>\n",
       "      <td>WDD2221851A001072</td>\n",
       "      <td>15837</td>\n",
       "      <td>141</td>\n",
       "      <td>66</td>\n",
       "      <td>75</td>\n",
       "    </tr>\n",
       "    <tr>\n",
       "      <th>3</th>\n",
       "      <td>14-Dec</td>\n",
       "      <td>WDD2221851A001072</td>\n",
       "      <td>9413</td>\n",
       "      <td>36</td>\n",
       "      <td>15</td>\n",
       "      <td>21</td>\n",
       "    </tr>\n",
       "    <tr>\n",
       "      <th>4</th>\n",
       "      <td>15-Jan</td>\n",
       "      <td>WDD2221851A001072</td>\n",
       "      <td>18192</td>\n",
       "      <td>48</td>\n",
       "      <td>18</td>\n",
       "      <td>30</td>\n",
       "    </tr>\n",
       "  </tbody>\n",
       "</table>\n",
       "</div>"
      ],
      "text/plain": [
       "    Month                Car  miles driven in autonomous mode  \\\n",
       "0  14-Sep  WDD2221851A001072                             4207   \n",
       "1  14-Oct  WDD2221851A001072                            23971   \n",
       "2  14-Nov  WDD2221851A001072                            15837   \n",
       "3  14-Dec  WDD2221851A001072                             9413   \n",
       "4  15-Jan  WDD2221851A001072                            18192   \n",
       "\n",
       "   total number of disengagements  number of automatic disengagements  \\\n",
       "0                              44                                  24   \n",
       "1                             228                                 100   \n",
       "2                             141                                  66   \n",
       "3                              36                                  15   \n",
       "4                              48                                  18   \n",
       "\n",
       "   number of manual disengagements  \n",
       "0                               20  \n",
       "1                              128  \n",
       "2                               75  \n",
       "3                               21  \n",
       "4                               30  "
      ]
     },
     "execution_count": 51,
     "metadata": {},
     "output_type": "execute_result"
    }
   ],
   "source": [
    "df_miles = pd.read_csv('mp1_av_totalmiles.csv')\n",
    "df_miles.head()"
   ]
  },
  {
   "cell_type": "markdown",
   "metadata": {
    "colab_type": "text",
    "id": "qVShSKBX7cjw"
   },
   "source": [
    "# 2. Summarize the following information"
   ]
  },
  {
   "cell_type": "markdown",
   "metadata": {
    "colab_type": "text",
    "id": "YgZ9hhFt7gme"
   },
   "source": [
    "<b>a. Total number of AV disengagements over the entire duration of available data</b>"
   ]
  },
  {
   "cell_type": "code",
   "execution_count": 52,
   "metadata": {
    "colab": {
     "base_uri": "https://localhost:8080/",
     "height": 34
    },
    "colab_type": "code",
    "id": "XclVOtZQ3XiL",
    "outputId": "db0913b4-82ce-4bf3-dddd-17228c4ee60d"
   },
   "outputs": [
    {
     "name": "stdout",
     "output_type": "stream",
     "text": [
      "Total number of AV disengagements over the entire duration of available data are 1024\n"
     ]
    }
   ],
   "source": [
    "print(f'Total number of AV disengagements over the entire duration of available data are {df_miles[\"total number of disengagements\"].sum(axis = 0)}') "
   ]
  },
  {
   "cell_type": "markdown",
   "metadata": {
    "colab_type": "text",
    "id": "tWQ8pKDl7lem"
   },
   "source": [
    "<b> b. Number of unique months that have recorded AV disengagements</b>"
   ]
  },
  {
   "cell_type": "code",
   "execution_count": 53,
   "metadata": {
    "colab": {
     "base_uri": "https://localhost:8080/",
     "height": 34
    },
    "colab_type": "code",
    "id": "TFz5ZD5o3XfG",
    "outputId": "2468921b-bdb1-4cde-cd1f-812ab7f44b0a"
   },
   "outputs": [
    {
     "name": "stdout",
     "output_type": "stream",
     "text": [
      "Number of unique months that have recorded AV disengagements are 12\n"
     ]
    }
   ],
   "source": [
    "df_diseng['month']= df_diseng['Month'].apply(lambda x:x.split('-')[1]) #Split the data so that month and the date are apart\n",
    "df_diseng['month'].nunique() #Count the unique months now\n",
    "print(f'Number of unique months that have recorded AV disengagements are {df_diseng[\"month\"].nunique()}')"
   ]
  },
  {
   "cell_type": "markdown",
   "metadata": {
    "colab_type": "text",
    "id": "Oy9xYZvq8vtN"
   },
   "source": [
    "<b> c. List of unique locations of AV disengagements</b>"
   ]
  },
  {
   "cell_type": "code",
   "execution_count": 54,
   "metadata": {
    "colab": {
     "base_uri": "https://localhost:8080/",
     "height": 34
    },
    "colab_type": "code",
    "id": "Fn2xPbqM3Xcj",
    "outputId": "ed3c274a-b792-4255-e370-2b5ec9acb96b"
   },
   "outputs": [
    {
     "name": "stdout",
     "output_type": "stream",
     "text": [
      "There are 2 locations namely urban-street and highway\n"
     ]
    }
   ],
   "source": [
    "print(f'There are {df_diseng[\"Location\"].nunique()} locations namely {list(df_diseng[\"Location\"].unique())[0]} and {list(df_diseng[\"Location\"].unique())[1]}')  "
   ]
  },
  {
   "cell_type": "markdown",
   "metadata": {
    "colab_type": "text",
    "id": "T_mNfy4f81wM"
   },
   "source": [
    "<b>d. Number of unique causes for AV disengagements</b>"
   ]
  },
  {
   "cell_type": "code",
   "execution_count": 55,
   "metadata": {
    "colab": {
     "base_uri": "https://localhost:8080/",
     "height": 34
    },
    "colab_type": "code",
    "id": "Q8tNCgFC3XZ1",
    "outputId": "cef64057-a113-4543-d2a2-12ca3b84a7ea"
   },
   "outputs": [
    {
     "name": "stdout",
     "output_type": "stream",
     "text": [
      "Number of unique causes for AV disengagements are 10\n"
     ]
    }
   ],
   "source": [
    "print(f'Number of unique causes for AV disengagements are {df_diseng[\"Cause\"].nunique()}')"
   ]
  },
  {
   "cell_type": "markdown",
   "metadata": {
    "colab_type": "text",
    "id": "-M3y55eb864a"
   },
   "source": [
    "<b>e) Columns with missing values in the dataset</b>"
   ]
  },
  {
   "cell_type": "markdown",
   "metadata": {
    "colab_type": "text",
    "id": "olnhNpre8-CW"
   },
   "source": [
    "Lets visualize the missing values in the datasets through a missing map"
   ]
  },
  {
   "cell_type": "markdown",
   "metadata": {
    "colab_type": "text",
    "id": "5BEkMnWm9AQG"
   },
   "source": [
    "<b>Disengagements dataset</b>"
   ]
  },
  {
   "cell_type": "code",
   "execution_count": 56,
   "metadata": {
    "colab": {
     "base_uri": "https://localhost:8080/",
     "height": 360
    },
    "colab_type": "code",
    "id": "TOnDAWqS3XW-",
    "outputId": "3fd21450-2dbb-402f-fda1-c5ade8bf9b12"
   },
   "outputs": [
    {
     "data": {
      "text/plain": [
       "Text(0.5, 1, 'Missing map of Disengagement data')"
      ]
     },
     "execution_count": 56,
     "metadata": {},
     "output_type": "execute_result"
    },
    {
     "data": {
      "image/png": "[encoded data removed]",
      "text/plain": [
       "<Figure size 432x288 with 1 Axes>"
      ]
     },
     "metadata": {
      "needs_background": "light"
     },
     "output_type": "display_data"
    }
   ],
   "source": [
    "#We create a heatmap which distinguishes the columns with missing values\n",
    "sns.heatmap(df_diseng.isnull(), cbar=False)\n",
    "plt.title(\"Missing map of Disengagement data\")"
   ]
  },
  {
   "cell_type": "markdown",
   "metadata": {
    "colab_type": "text",
    "id": "L_b1haF29FhZ"
   },
   "source": [
    "We can see above that the only column which has missing values is <b>Reaction time</b>\n",
    "Lets see how many of null values are actually there"
   ]
  },
  {
   "cell_type": "code",
   "execution_count": 57,
   "metadata": {
    "colab": {
     "base_uri": "https://localhost:8080/",
     "height": 34
    },
    "colab_type": "code",
    "id": "NsNPxMX73XSz",
    "outputId": "1a2463f6-17cf-4abb-fc50-7b64ceec3b08"
   },
   "outputs": [
    {
     "name": "stdout",
     "output_type": "stream",
     "text": [
      "The number of missing values in the reaction time column are 532\n"
     ]
    }
   ],
   "source": [
    "print(f'The number of missing values in the reaction time column are {len(df_diseng[df_diseng[\"ReactionTime\"].isnull()])}')"
   ]
  },
  {
   "cell_type": "markdown",
   "metadata": {
    "colab_type": "text",
    "id": "Bo9gQloE9Kdr"
   },
   "source": [
    "<b>Total miles dataset</b>"
   ]
  },
  {
   "cell_type": "code",
   "execution_count": 58,
   "metadata": {
    "colab": {
     "base_uri": "https://localhost:8080/",
     "height": 480
    },
    "colab_type": "code",
    "id": "5XvSxuDd3XHk",
    "outputId": "fefe85ec-92f0-4b91-a4d6-95c7e1e4746d"
   },
   "outputs": [
    {
     "data": {
      "text/plain": [
       "Text(0.5, 1, 'Missing map of Total miles data')"
      ]
     },
     "execution_count": 58,
     "metadata": {},
     "output_type": "execute_result"
    },
    {
     "data": {
      "image/png": "[encoded data removed]",
      "text/plain": [
       "<Figure size 432x288 with 1 Axes>"
      ]
     },
     "metadata": {
      "needs_background": "light"
     },
     "output_type": "display_data"
    }
   ],
   "source": [
    "sns.heatmap(df_miles.isnull(), cbar=False)\n",
    "plt.title(\"Missing map of Total miles data\")"
   ]
  },
  {
   "cell_type": "markdown",
   "metadata": {
    "colab_type": "text",
    "id": "IE8ifAkI9P7L"
   },
   "source": [
    "\n",
    "We can see above that there are no column which has missing values in this dataset"
   ]
  },
  {
   "cell_type": "markdown",
   "metadata": {
    "colab_type": "text",
    "id": "MirbYlcK9TLj"
   },
   "source": [
    "<b>3) Plot a pie chart for the causes of AV disengagement. Based on the pie-chart, list the top 2 leading causes of disengagement?</b>"
   ]
  },
  {
   "cell_type": "code",
   "execution_count": 59,
   "metadata": {
    "colab": {
     "base_uri": "https://localhost:8080/",
     "height": 264
    },
    "colab_type": "code",
    "id": "0YB6fxnM9VX5",
    "outputId": "d24dc294-af34-4678-db12-dad50ad8c6b7"
   },
   "outputs": [
    {
     "data": {
      "image/png": "[encoded data removed]",
      "text/plain": [
       "<Figure size 432x288 with 1 Axes>"
      ]
     },
     "metadata": {},
     "output_type": "display_data"
    }
   ],
   "source": [
    "cause = df_diseng[\"Cause\"].value_counts()  #Counts the occurences of different causes of disengagement\n",
    "cause\n",
    "plt.pie(cause, labels=cause.keys(),autopct = '%0.1f%%', shadow = True,radius =1) #produces the piechart using matplotlib\n",
    "plt.title(\"Causes of AV disengagement\")\n",
    "plt.show()"
   ]
  },
  {
   "cell_type": "markdown",
   "metadata": {
    "colab_type": "text",
    "id": "RREfthmd9Y4b"
   },
   "source": [
    "From the above pie chart we can see that <b>Unwanted Driver discomfort</b> and <b>Recklessly behaving agent</b> are the two leading causes of disengagements"
   ]
  },
  {
   "cell_type": "markdown",
   "metadata": {
    "colab_type": "text",
    "id": "i7gTE6759b82"
   },
   "source": [
    "<b> 4. Visualize the trend of disengagement/mile over time with monthly granularity. \n",
    "How would you describe the trend? Are AVs maturing over time?</b>"
   ]
  },
  {
   "cell_type": "code",
   "execution_count": 60,
   "metadata": {
    "colab": {},
    "colab_type": "code",
    "id": "2lUTn6L89eGU"
   },
   "outputs": [],
   "source": [
    "df1=df_miles.groupby(['Month']).sum()[['total number of disengagements','miles driven in autonomous mode']]\n",
    "df1=df1.reset_index(0)\n",
    "df1['month']= df1['Month'].apply(lambda x:x.split('-')[1]) #Splits the column to get the month and date separately\n",
    "df1[\"month\"] = pd.to_datetime(df1.month, format='%b', errors='coerce').dt.month #Converts the column into date\n",
    "df1['year']= df1['Month'].apply(lambda x:x.split('-')[0]) #Splits the column to get the month and date separately\n",
    "\n",
    "df1['disengagement/mile']=df1['total number of disengagements']/df1['miles driven in autonomous mode']\n",
    "df1 = df1.sort_values(by=[\"year\",\"month\"],ascending=True)\n",
    "df1['date']=df1['Month'].apply(lambda x:x.split('-')[1])+\"-\"+df1['year'].astype(str)"
   ]
  },
  {
   "cell_type": "code",
   "execution_count": 61,
   "metadata": {
    "colab": {
     "base_uri": "https://localhost:8080/",
     "height": 295
    },
    "colab_type": "code",
    "id": "NnuZx-qs9kBe",
    "outputId": "e165b01f-4c1b-4ee8-ce3d-e3a671502ef2"
   },
   "outputs": [
    {
     "data": {
      "image/png": "[encoded data removed]",
      "text/plain": [
       "<Figure size 432x288 with 1 Axes>"
      ]
     },
     "metadata": {
      "needs_background": "light"
     },
     "output_type": "display_data"
    }
   ],
   "source": [
    "#We leverage matplotlib section to plot a line to understand the trend over months\n",
    "plt.plot(df1['date'],df1['disengagement/mile'],'#8B008B',alpha=0.5,lw=1, ls='-', marker='o', markersize=8, markerfacecolor=\"yellow\",markeredgecolor='black')\n",
    "plt.xlabel('Months')\n",
    "plt.ylabel('Disengagement/Mile')\n",
    "plt.title('Disengagement/Mile Across Months')\n",
    "plt.show()\n",
    "#plt.xticks(['Jan','Feb','Mar','Apr','May','June','July','Aug','Sep','Oct','Nov','Dec'])"
   ]
  },
  {
   "cell_type": "markdown",
   "metadata": {
    "colab_type": "text",
    "id": "SuHr_iYf9shT"
   },
   "source": [
    "<b>The trend of disengagement/mile decreases over the course of time. We observe occassional peaks in disengagements but overall the trend is declining. Thus we can say that the AVs appear to have matured over time. It has the highest disengagement per mile in the month of September 2014 and lowest being November 2015</b>"
   ]
  },
  {
   "cell_type": "markdown",
   "metadata": {
    "colab_type": "text",
    "id": "IXaTUk0P9sWI"
   },
   "source": [
    "## TASK 1"
   ]
  },
  {
   "cell_type": "markdown",
   "metadata": {
    "colab_type": "text",
    "id": "dwKmoeQD9sPu"
   },
   "source": [
    "<b>1. What do the following distributions signify about samples drawn from it \n",
    "    a. Gaussian distribution \n",
    "    b. Exponential distribution \n",
    "    c. Weibull distribution</b>"
   ]
  },
  {
   "cell_type": "markdown",
   "metadata": {
    "colab_type": "text",
    "id": "nWF5l1v69sJC"
   },
   "source": [
    "<b>Regardless of the type of distribution, ths sample distribution depends on the sample size taken from the population. For instance, when we take n=10 from any of these distributions, it looks very disconnected with mean and variance being different from the original distribution. As the sample size increases, the distribution resembles close to the parent distribution and mean of the sample converges towards the mean of the entire population (Central Limit Theorem)<br>\n",
    "\n",
    "References:\n",
    "1. https://amsi.org.au/ESA_Senior_Years/SeniorTopic4/4_md/SeniorTopic4b.html#content_6\n",
    "2. https://amsi.org.au/ESA_Senior_Years/SeniorTopic4/4b/4b_2content_7.html#content_8\n",
    "</b>"
   ]
  },
  {
   "cell_type": "markdown",
   "metadata": {
    "colab_type": "text",
    "id": "xi12swHR97V_"
   },
   "source": [
    "<b>2. Distribution of Reaction Time<b>"
   ]
  },
  {
   "cell_type": "code",
   "execution_count": 62,
   "metadata": {
    "colab": {
     "base_uri": "https://localhost:8080/",
     "height": 316
    },
    "colab_type": "code",
    "id": "b_x7V_7m9nmS",
    "outputId": "ba2450b1-a205-4335-e56e-9f5595f24e01"
   },
   "outputs": [
    {
     "data": {
      "text/plain": [
       "Text(0.5, 1.0, 'Distribution of Reaction Time')"
      ]
     },
     "execution_count": 62,
     "metadata": {},
     "output_type": "execute_result"
    },
    {
     "data": {
      "image/png": "[encoded data removed]",
      "text/plain": [
       "<Figure size 432x288 with 1 Axes>"
      ]
     },
     "metadata": {
      "needs_background": "light"
     },
     "output_type": "display_data"
    }
   ],
   "source": [
    "sns.distplot(df_diseng['ReactionTime'].dropna(), hist = False, kde = True,rug=True,fit=stats.weibull_min,  #Displays the probability density of the distribution which can be above 1\n",
    "                 kde_kws = {'shade': True, 'linewidth': 3}) \n",
    "plt.xlabel('Reaction Time', fontsize=12)\n",
    "plt.ylabel('Probability Density', fontsize=12)\n",
    "plt.title('Distribution of Reaction Time', fontsize=14)"
   ]
  },
  {
   "cell_type": "markdown",
   "metadata": {
    "colab_type": "text",
    "id": "lWN0gJ_7-3Wb"
   },
   "source": [
    "<b>Distribution of Reaction time removing the extreme values(>4) for better visualization</b>"
   ]
  },
  {
   "cell_type": "code",
   "execution_count": 63,
   "metadata": {
    "colab": {
     "base_uri": "https://localhost:8080/",
     "height": 316
    },
    "colab_type": "code",
    "id": "8LIAljxj_A1v",
    "outputId": "1cf1eb58-a100-4924-bacd-cc70ec5a080b"
   },
   "outputs": [
    {
     "data": {
      "text/plain": [
       "Text(0, 0.5, 'Probability density')"
      ]
     },
     "execution_count": 63,
     "metadata": {},
     "output_type": "execute_result"
    },
    {
     "data": {
      "image/png": "[encoded data removed]",
      "text/plain": [
       "<Figure size 432x288 with 1 Axes>"
      ]
     },
     "metadata": {
      "needs_background": "light"
     },
     "output_type": "display_data"
    }
   ],
   "source": [
    " df_diseng2 = df_diseng[df_diseng['ReactionTime']<=4]\n",
    "\n",
    "sns.distplot(df_diseng2['ReactionTime'], hist = False, kde = True,rug=True,fit=stats.weibull_min,\n",
    "                 kde_kws = {'shade': True, 'linewidth': 3})\n",
    "plt.title('Distribution of Reaction Time ', fontsize=14)\n",
    "plt.xlabel('Reaction Time', fontsize=12)\n",
    "plt.ylabel('Probability density', fontsize=12)"
   ]
  },
  {
   "cell_type": "markdown",
   "metadata": {
    "colab_type": "text",
    "id": "MU7P3REF_EC7"
   },
   "source": [
    "<b>The reaction time follows a weibull distribution. The distribution signifies that most of the drivers having a reaction time of 1-2s post which there is a very less population.\n",
    "<br> \n",
    "References:<br>\n",
    "https://www.itl.nist.gov/div898/handbook/eda/section3/eda3668.htm </b>"
   ]
  },
  {
   "cell_type": "markdown",
   "metadata": {
    "colab_type": "text",
    "id": "JiM4P_L3_QQQ"
   },
   "source": [
    "<b>3a. Average Reaction for entire duration of the dataset</b>"
   ]
  },
  {
   "cell_type": "code",
   "execution_count": 64,
   "metadata": {
    "colab": {
     "base_uri": "https://localhost:8080/",
     "height": 136
    },
    "colab_type": "code",
    "id": "koqRWuVq_WWo",
    "outputId": "343c747a-6529-47b3-d6b4-dafb1fde05f6"
   },
   "outputs": [
    {
     "data": {
      "text/html": [
       "<div>\n",
       "<style scoped>\n",
       "    .dataframe tbody tr th:only-of-type {\n",
       "        vertical-align: middle;\n",
       "    }\n",
       "\n",
       "    .dataframe tbody tr th {\n",
       "        vertical-align: top;\n",
       "    }\n",
       "\n",
       "    .dataframe thead th {\n",
       "        text-align: right;\n",
       "    }\n",
       "</style>\n",
       "<table border=\"1\" class=\"dataframe\">\n",
       "  <thead>\n",
       "    <tr style=\"text-align: right;\">\n",
       "      <th></th>\n",
       "      <th>ReactionTime</th>\n",
       "    </tr>\n",
       "    <tr>\n",
       "      <th>Location</th>\n",
       "      <th></th>\n",
       "    </tr>\n",
       "  </thead>\n",
       "  <tbody>\n",
       "    <tr>\n",
       "      <th>highway</th>\n",
       "      <td>1.48000</td>\n",
       "    </tr>\n",
       "    <tr>\n",
       "      <th>urban-street</th>\n",
       "      <td>0.92865</td>\n",
       "    </tr>\n",
       "  </tbody>\n",
       "</table>\n",
       "</div>"
      ],
      "text/plain": [
       "              ReactionTime\n",
       "Location                  \n",
       "highway            1.48000\n",
       "urban-street       0.92865"
      ]
     },
     "execution_count": 64,
     "metadata": {},
     "output_type": "execute_result"
    }
   ],
   "source": [
    "df_diseng.groupby('Location').mean()"
   ]
  },
  {
   "cell_type": "markdown",
   "metadata": {
    "colab_type": "text",
    "id": "hI-jRB_d_P-u"
   },
   "source": [
    "<b>4. Perform a hypothesis testing at a 0.05 significance level</b>"
   ]
  },
  {
   "cell_type": "markdown",
   "metadata": {
    "colab_type": "text",
    "id": "vD83zdJt_P7U"
   },
   "source": [
    "Assumptions: \n",
    "From the given question, we have the mean of both the populations (AV and Non AV cars)\n",
    "Since no additional information is given, we assume that both the population has constant variance.\n",
    "\n",
    "Null hypothesis :The average reaction time for humans in Non AV cars is same as AV cars\n",
    "\n",
    "Alternative hypothesis : The average reaction time for humans in Non AV cars is different from AV cars\n",
    "\n"
   ]
  },
  {
   "cell_type": "code",
   "execution_count": 65,
   "metadata": {
    "colab": {
     "base_uri": "https://localhost:8080/",
     "height": 34
    },
    "colab_type": "code",
    "id": "ZLW_iCwN_n3m",
    "outputId": "7e89e637-4997-48bf-a4c2-b0568a70b337"
   },
   "outputs": [
    {
     "name": "stdout",
     "output_type": "stream",
     "text": [
      "3.028\n"
     ]
    }
   ],
   "source": [
    "from scipy import stats\n",
    "###We assume both the population have constant variance\n",
    "#se - standard deviation of the population\n",
    "se = df_diseng['ReactionTime'].std() /np.sqrt(len(df_diseng['ReactionTime']))\n",
    "\n",
    "Mean_of_NON_AV=1.09\n",
    "Mean_of_AV=df_diseng['ReactionTime'].mean()\n",
    "#t=x-u/se\n",
    "ttest=(Mean_of_NON_AV-Mean_of_AV)/se  \n",
    "print(round(ttest,3))"
   ]
  },
  {
   "cell_type": "code",
   "execution_count": 66,
   "metadata": {
    "colab": {
     "base_uri": "https://localhost:8080/",
     "height": 34
    },
    "colab_type": "code",
    "id": "oNsxE0J6_sBx",
    "outputId": "0489c834-ef1c-45a8-b208-b3dfb1a6eacf"
   },
   "outputs": [
    {
     "name": "stdout",
     "output_type": "stream",
     "text": [
      "We reject the Null Hypothesis : The average reaction time for humans in Non AV cars is different as AV cars\n"
     ]
    }
   ],
   "source": [
    "# degrees of freedom\n",
    "df = len(df_diseng['ReactionTime'])-1\n",
    "\n",
    "from scipy.stats import t\n",
    "alpha=0.05 #Significance level given in the question\n",
    "cv = t.ppf(1.0 - alpha, df)\n",
    "p = (1 - t.cdf(abs(ttest), df)) * 2\n",
    "if p<0.05:\n",
    "    print(\"We reject the Null Hypothesis : The average reaction time for humans in Non AV cars is different as AV cars\")\n",
    "else:\n",
    "    print(\"We fail  to reject the Null Hypothesis :The average reaction time for humans in Non AV cars same as AV cars\")\n"
   ]
  },
  {
   "cell_type": "markdown",
   "metadata": {
    "colab_type": "text",
    "id": "pJUnhy09_Pw0"
   },
   "source": [
    "<b> 5. Plot the probability distribution of disengagements/mile with monthly granularity</b>"
   ]
  },
  {
   "cell_type": "code",
   "execution_count": 67,
   "metadata": {
    "colab": {
     "base_uri": "https://localhost:8080/",
     "height": 316
    },
    "colab_type": "code",
    "id": "qPLfr2Q9_-CZ",
    "outputId": "ba95dac9-1314-42ed-d899-d461e2e01ff6"
   },
   "outputs": [
    {
     "data": {
      "text/plain": [
       "(0, 0.02)"
      ]
     },
     "execution_count": 67,
     "metadata": {},
     "output_type": "execute_result"
    },
    {
     "data": {
      "image/png": "[encoded data removed]",
      "text/plain": [
       "<Figure size 432x288 with 1 Axes>"
      ]
     },
     "metadata": {
      "needs_background": "light"
     },
     "output_type": "display_data"
    }
   ],
   "source": [
    "sns.distplot(df1['disengagement/mile'], hist = True, kde = True, fit=stats.expon,rug=True\n",
    "                 ,kde_kws = {'shade': True, 'linewidth': 3})\n",
    "plt.title('Distribution of #disengagement/mile ', fontsize=14)\n",
    "plt.xlabel('#disengagement/mile', fontsize=12)\n",
    "plt.ylabel('Probability density', fontsize=12)\n",
    "plt.xlim(0,0.02)"
   ]
  },
  {
   "cell_type": "markdown",
   "metadata": {
    "colab_type": "text",
    "id": "ndXDhtYA_PtM"
   },
   "source": [
    "<b>The above figure follows more or less an exponential distribution (Except that it has a local peak due to data). </b>"
   ]
  },
  {
   "cell_type": "markdown",
   "metadata": {
    "colab_type": "text",
    "id": "OWJkgyHUeABd"
   },
   "source": [
    "# TASK 2 "
   ]
  },
  {
   "cell_type": "markdown",
   "metadata": {
    "colab_type": "text",
    "id": "djU-dGHkeABe"
   },
   "source": [
    "<b> Assumptions :\n",
    "1. There can be at most one disengagement in a mile\n",
    "2. A day can be either clear or cloudy, but not both. The probability of a day being clear in California is 72% \n",
    "3. The AV is equally likely to drive on a cloudy day as on a clear day.</b>"
   ]
  },
  {
   "cell_type": "markdown",
   "metadata": {
    "colab_type": "text",
    "id": "xkXnvBMpeABj"
   },
   "source": [
    "<b>a.)<b> "
   ]
  },
  {
   "cell_type": "markdown",
   "metadata": {
    "colab_type": "text",
    "id": "e94Aj9wzeABj"
   },
   "source": [
    "The assumption on maximum number of disengagements in a mile allows us to treat the occurrence of a disengagement in a mile as a random variable with a <b>Bernoulli<b> distribution"
   ]
  },
  {
   "cell_type": "markdown",
   "metadata": {
    "colab_type": "text",
    "id": "bEqATBZLeABk"
   },
   "source": [
    "<b>b.) probability of disengagement per mile on a cloudy day.</b>                                                                                "
   ]
  },
  {
   "cell_type": "markdown",
   "metadata": {
    "colab_type": "text",
    "id": "W3XVF88UeABl"
   },
   "source": [
    "Let ,\n",
    "Based on assumption 2 we have,\n",
    "\n",
    "Probability of a day being clear in california be denoted as <b>P(Clear)=0.72</b>\n",
    "    \n",
    "Probability of a day being clear in california be denoted as <b>P(Cloudy)=0.28</b>\n",
    "    \n",
    "Probability of a disengagement/mile in california be denoted as <b>P(DM)</b>\n",
    "    \n",
    "We have to find : <b>P(DM | cloudy)</b>\n",
    "\n",
    " <b>P(DM | cloudy) = [P(cloudy | DM) * P(DM)] / P(Cloudy) - using bayes theorem</b>\n",
    " \n",
    " Calculating: P(cloudy | DM)\n",
    "\n"
   ]
  },
  {
   "cell_type": "code",
   "execution_count": 68,
   "metadata": {
    "colab": {
     "base_uri": "https://localhost:8080/",
     "height": 34
    },
    "colab_type": "code",
    "id": "Pp5FcqOReABm",
    "outputId": "935f8946-7c07-496c-9d32-acbca75d3eae"
   },
   "outputs": [
    {
     "name": "stdout",
     "output_type": "stream",
     "text": [
      "Probability:  0.82\n"
     ]
    }
   ],
   "source": [
    "x = len(df_diseng[df_diseng['Weather']=='cloudy']) /len(df_diseng)\n",
    "print('Probability: ', round(x,2))"
   ]
  },
  {
   "cell_type": "markdown",
   "metadata": {
    "colab_type": "text",
    "id": "1g16G9TceABq"
   },
   "source": [
    "<b>P(cloudy/DM) = 0.82 </b>"
   ]
  },
  {
   "cell_type": "markdown",
   "metadata": {
    "colab_type": "text",
    "id": "QKq5a-o8eABu"
   },
   "source": [
    "Calculating : P(DM)"
   ]
  },
  {
   "cell_type": "code",
   "execution_count": 69,
   "metadata": {
    "colab": {
     "base_uri": "https://localhost:8080/",
     "height": 34
    },
    "colab_type": "code",
    "id": "oVoRYconeABv",
    "outputId": "1b77ed9f-55d0-458f-e8f8-6c185126c146"
   },
   "outputs": [
    {
     "name": "stdout",
     "output_type": "stream",
     "text": [
      "Probability:  0.002\n"
     ]
    }
   ],
   "source": [
    "y=df_miles['total number of disengagements'].sum()/df_miles['miles driven in autonomous mode'].sum()\n",
    "print('Probability: ', round(y,4))"
   ]
  },
  {
   "cell_type": "markdown",
   "metadata": {
    "colab_type": "text",
    "id": "ZfIzaJLgeABx"
   },
   "source": [
    "<b> P(DM) = 0.0020</b>"
   ]
  },
  {
   "cell_type": "markdown",
   "metadata": {
    "colab_type": "text",
    "id": "a9xMfPvyeABy"
   },
   "source": [
    "<b>P(DM | cloudy) =[ 0.82 * 0.0020] / 0.28</b>\n",
    "\n",
    "<b>P(DM | cloudy)  = 0.0059</b>\n",
    "\n"
   ]
  },
  {
   "cell_type": "markdown",
   "metadata": {
    "colab_type": "text",
    "id": "YG4BlzL7eABz"
   },
   "source": [
    "<b>probability of disengagement per mile on a cloudy day is 0.0059<b>"
   ]
  },
  {
   "cell_type": "markdown",
   "metadata": {
    "colab_type": "text",
    "id": "8i_dQTJgeABz"
   },
   "source": [
    "<b> c.) probability of disengagement per mile on a cloudy day.</b>"
   ]
  },
  {
   "cell_type": "markdown",
   "metadata": {
    "colab_type": "text",
    "id": "Gh6ZvbeCeAB0"
   },
   "source": [
    "We have to find :<b> P(DM | clear) </b>\n",
    "\n",
    "<b>P(DM | clear) = [P(clear | DM) * P(DM)] / P(Clear)</b> - using bayes theorem\n",
    "\n",
    "Calculating: P(clear | DM) , let it be x\n",
    "\n",
    "\n"
   ]
  },
  {
   "cell_type": "code",
   "execution_count": 70,
   "metadata": {
    "colab": {
     "base_uri": "https://localhost:8080/",
     "height": 34
    },
    "colab_type": "code",
    "id": "MiU5ImN-eAB1",
    "outputId": "f6b8f39d-47fc-49ea-bef5-c39804e1e88d"
   },
   "outputs": [
    {
     "name": "stdout",
     "output_type": "stream",
     "text": [
      "Probability:  0.18\n"
     ]
    }
   ],
   "source": [
    "x = len(df_diseng[df_diseng['Weather']=='clear']) /len(df_diseng)\n",
    "print('Probability: ', round(x,2))"
   ]
  },
  {
   "cell_type": "markdown",
   "metadata": {
    "colab_type": "text",
    "id": "zKRtHirqeAB4"
   },
   "source": [
    "P(DM) will be same as part a)"
   ]
  },
  {
   "cell_type": "markdown",
   "metadata": {
    "colab_type": "text",
    "id": "NiYDyG1reAB6"
   },
   "source": [
    "<b>P(DM) = 0.0020</b>\n",
    "\n",
    "<b>P(DM | clear) =[ 0.18* 0.0020] / 0.72</b>\n",
    "\n",
    "<b>P(DM | clear)= 0.0005</b>\n"
   ]
  },
  {
   "cell_type": "markdown",
   "metadata": {
    "colab_type": "text",
    "id": "x9MOs6bReAB6"
   },
   "source": [
    "<b>probability of disengagement per mile on a clear day is 0.0005<b>\n"
   ]
  },
  {
   "cell_type": "markdown",
   "metadata": {
    "colab_type": "text",
    "id": "BRqPs9L-eAB7"
   },
   "source": [
    "<b> d.) probability of automatic disengagement per mile on a cloudy day.</b>"
   ]
  },
  {
   "cell_type": "markdown",
   "metadata": {
    "colab_type": "text",
    "id": "6OAjKDYmeAB9"
   },
   "source": [
    "<b>Probability of a automatic disengagement/mile in california be denoted as P(ADM)</b>\n",
    "\n",
    "<b> P(ADM | Cloudy) = [P(Cloudy | ADM) * P(ADM)] / P(Cloudy) </b>\n",
    "\n",
    "Calculating: P(cloudy | ADM) , let it be x\n"
   ]
  },
  {
   "cell_type": "code",
   "execution_count": 71,
   "metadata": {
    "colab": {},
    "colab_type": "code",
    "id": "RLkFLJD_eAB-"
   },
   "outputs": [],
   "source": [
    "x=len(df_diseng[(df_diseng['Weather']=='cloudy') & (df_diseng['TypeOfTrigger']=='automatic')]) / len(df_diseng[df_diseng['TypeOfTrigger']=='automatic'])"
   ]
  },
  {
   "cell_type": "markdown",
   "metadata": {
    "colab_type": "text",
    "id": "81LS_dWGeACC"
   },
   "source": [
    "Calculating: P(cloudy | ADM) , let it be x"
   ]
  },
  {
   "cell_type": "markdown",
   "metadata": {
    "colab_type": "text",
    "id": "5EbD3KsoeACD"
   },
   "source": [
    "<b>P(cloudy/ADM) = 0.81</b>"
   ]
  },
  {
   "cell_type": "markdown",
   "metadata": {
    "colab_type": "text",
    "id": "H5KowBSeeACE"
   },
   "source": [
    "Calculating : P(ADM) , let it be y"
   ]
  },
  {
   "cell_type": "code",
   "execution_count": 72,
   "metadata": {
    "colab": {},
    "colab_type": "code",
    "id": "TxxNPJ4HeACF"
   },
   "outputs": [],
   "source": [
    "y=df_miles['number of automatic disengagements'].sum()/df_miles['miles driven in autonomous mode'].sum()"
   ]
  },
  {
   "cell_type": "markdown",
   "metadata": {
    "colab_type": "text",
    "id": "lsrM6E2beACK"
   },
   "source": [
    "<b>P(ADM)= 0.00098</b>"
   ]
  },
  {
   "cell_type": "markdown",
   "metadata": {
    "colab_type": "text",
    "id": "OJnh1iiueACL"
   },
   "source": [
    "<b>P(ADM | cloudy) =[0.81 * 0.00098] / 0.28</b>"
   ]
  },
  {
   "cell_type": "markdown",
   "metadata": {
    "colab_type": "text",
    "id": "JMAedVldeACN"
   },
   "source": [
    "<b>P(ADM | cloudy) = 0.0028</b>"
   ]
  },
  {
   "cell_type": "markdown",
   "metadata": {
    "colab_type": "text",
    "id": "ASAHcwl0eACO"
   },
   "source": [
    "<b>probability of automatic disengagement per mile on a cloudy day is 0.0028<b>\n"
   ]
  },
  {
   "cell_type": "markdown",
   "metadata": {
    "colab_type": "text",
    "id": "8fnwZIJTeACP"
   },
   "source": [
    "<b>probability of automatic disengagement per mile on a clear day.</b>"
   ]
  },
  {
   "cell_type": "markdown",
   "metadata": {
    "colab_type": "text",
    "id": "sYdUHGwmeACQ"
   },
   "source": [
    "<b> P(ADM | Clear) = [P(Clear | ADM) * P(ADM)] / P(Clear) </b>"
   ]
  },
  {
   "cell_type": "markdown",
   "metadata": {
    "colab_type": "text",
    "id": "XOENUhzOeACR"
   },
   "source": [
    "Calculating: P(cloudy/ADM),"
   ]
  },
  {
   "cell_type": "code",
   "execution_count": 74,
   "metadata": {
    "colab": {},
    "colab_type": "code",
    "id": "ClDkHn7MeACR"
   },
   "outputs": [],
   "source": [
    "x=len(df_diseng[(df_diseng['Weather']=='clear') & (df_diseng['TypeOfTrigger']=='automatic')]) / len(df_diseng[df_diseng['TypeOfTrigger']=='automatic'])"
   ]
  },
  {
   "cell_type": "markdown",
   "metadata": {
    "colab_type": "text",
    "id": "cx-QRXdGeACU"
   },
   "source": [
    "<b>P(clear | ADM) = 0.19</b>"
   ]
  },
  {
   "cell_type": "markdown",
   "metadata": {
    "colab_type": "text",
    "id": "LzVBW94beACV"
   },
   "source": [
    "We have P(ADM) calculated above"
   ]
  },
  {
   "cell_type": "markdown",
   "metadata": {
    "colab_type": "text",
    "id": "zUIsNVr_eACV"
   },
   "source": [
    "<b>P(ADM)= 0.00098</b>"
   ]
  },
  {
   "cell_type": "markdown",
   "metadata": {
    "colab_type": "text",
    "id": "fJvnGEpheACW"
   },
   "source": [
    "<b> P(ADM | Clear) = (0.19 * 0.00098) / 0.72"
   ]
  },
  {
   "cell_type": "markdown",
   "metadata": {
    "colab_type": "text",
    "id": "rOTEiVc2eACX"
   },
   "source": [
    "<b> P(ADM | Clear) = 0.00026</b>"
   ]
  },
  {
   "cell_type": "markdown",
   "metadata": {
    "colab_type": "text",
    "id": "FKdrcPLUeACZ"
   },
   "source": [
    "<b>e.) How likely is it that in 12000 miles, there are 150 or more disengagements under cloudy conditions? </b>"
   ]
  },
  {
   "cell_type": "markdown",
   "metadata": {
    "colab_type": "text",
    "id": "VHtWzYN2eACa"
   },
   "source": [
    "<b>The above distribution can be represented as a binomial distribution which can then be approximated to a normal distribution \n",
    "using Central Limit Theorem</b>"
   ]
  },
  {
   "cell_type": "markdown",
   "metadata": {
    "colab_type": "text",
    "id": "aRUW1oJFeACc"
   },
   "source": [
    "<b> The normal distribution will have mean = n * p  and standard deviation = sqrt(np(1-p)) , where n is the number of trials \n",
    "and p is probability of success</b>\n",
    "\n",
    "<b>Given n =12000 , p= 0.005903</b>  from the data\n",
    "        "
   ]
  },
  {
   "cell_type": "code",
   "execution_count": 75,
   "metadata": {
    "colab": {},
    "colab_type": "code",
    "id": "FmzWtzqgeACe"
   },
   "outputs": [],
   "source": [
    "import numpy as np\n",
    "import matplotlib.pyplot as plt\n",
    "from scipy.stats import norm"
   ]
  },
  {
   "cell_type": "code",
   "execution_count": 76,
   "metadata": {
    "colab": {
     "base_uri": "https://localhost:8080/",
     "height": 282
    },
    "colab_type": "code",
    "id": "ZiYs9lzPeACg",
    "outputId": "4158a0ba-576b-4871-a0bb-8904e23c4ae0"
   },
   "outputs": [
    {
     "data": {
      "image/png": "[encoded data removed]",
      "text/plain": [
       "<Figure size 432x288 with 1 Axes>"
      ]
     },
     "metadata": {
      "needs_background": "light"
     },
     "output_type": "display_data"
    },
    {
     "data": {
      "text/plain": [
       "1.9776115012499175e-21"
      ]
     },
     "execution_count": 76,
     "metadata": {},
     "output_type": "execute_result"
    }
   ],
   "source": [
    "import matplotlib.pyplot as plt\n",
    "import numpy as np\n",
    "import scipy.stats as stats\n",
    "import math\n",
    "import scipy\n",
    "\n",
    "mu = (12000*0.005903)\n",
    "variance = (12000*0.005903) * (1-0.005903)\n",
    "sigma = math.sqrt(variance)\n",
    "x = np.linspace(mu - 3*sigma, mu + 3*sigma, 100)\n",
    "plt.plot(x, stats.norm.pdf(x, mu, sigma))\n",
    "plt.show()\n",
    "\n",
    "x=150 ##given \n",
    "z = ( x - mu ) / sigma\n",
    "p_values = scipy.stats.norm.sf(abs(z))\n",
    "p_values"
   ]
  },
  {
   "cell_type": "markdown",
   "metadata": {
    "colab_type": "text",
    "id": "QqPN_6qYeACj"
   },
   "source": [
    "<b>2.) a.) </b>"
   ]
  },
  {
   "cell_type": "markdown",
   "metadata": {
    "colab_type": "text",
    "id": "1AnSchJ7eACj"
   },
   "source": [
    "<b>Normal distribution represents an approximate representation of the data in the hypotheses test </b>"
   ]
  },
  {
   "cell_type": "code",
   "execution_count": 77,
   "metadata": {
    "colab": {},
    "colab_type": "code",
    "id": "2HR4PXv4eACk"
   },
   "outputs": [
    {
     "data": {
      "image/png": "[encoded data removed]",
      "text/plain": [
       "<Figure size 432x288 with 1 Axes>"
      ]
     },
     "metadata": {
      "needs_background": "light"
     },
     "output_type": "display_data"
    }
   ],
   "source": [
    "import matplotlib.pyplot as plt\n",
    "import matplotlib.image as mpimg\n",
    "img=mpimg.imread('Normal_dist.PNG')\n",
    "imgplot = plt.imshow(img)"
   ]
  },
  {
   "cell_type": "markdown",
   "metadata": {
    "colab_type": "text",
    "id": "UJWoyYxxeACm"
   },
   "source": [
    "Normal distribution represents an approximate representation of the data in the hypotheses test when one needs to compare two samples or a sample and population given its parameters. We can determine how anomalous a data point is based on how many standard deviations it is from the mean. The normal distribution has the following helpful properties:\n",
    "68% of data is within ± 1 standard deviations from the mean\n",
    "95% of data is within ± 2 standard deviations from the mean\n",
    "99.7% of data is within ± 3 standard deviations from the mean\n",
    "\n",
    "Reference -https://towardsdatascience.com/statistical-significance-hypothesis-testing-the-normal-curve-and-p-values-93274fa32687"
   ]
  },
  {
   "cell_type": "markdown",
   "metadata": {
    "colab_type": "text",
    "id": "7NMkkCuzeACm"
   },
   "source": [
    "<b>b.)</b>"
   ]
  },
  {
   "cell_type": "markdown",
   "metadata": {
    "colab_type": "text",
    "id": "oqdeHudmeACn"
   },
   "source": [
    "<b>It is not necessary that rejecting the NULL hypothesis means accepting the alternate hypothesis. \n",
    "It depends on the formulation of the experiment and a relationship may exist between 2 phenonmena that is not identified\n",
    "by the experiment\n",
    "\n",
    "For example, there can be a set of hypothesis such as:\n",
    "\n",
    "H0: u1=u2\n",
    "\n",
    "HA: u1 > u2\n",
    "\n",
    "There is a solution of u1 < u2 outside the scope of this hypothesis which might be left out as a part of this experiment</b>\n"
   ]
  },
  {
   "cell_type": "markdown",
   "metadata": {
    "colab_type": "text",
    "id": "VxQGLPo3yWUl"
   },
   "source": [
    "<b> 3.) At a 0.05 significance level, test the following hypothesis: The AV has more disengagements (automatic and manual) on cloudy days than clear days. Based on the result of the hypothesis test, what can you conclude about the impact of weather conditions on AV safety? [Hint: Use a Z-test for testing this hypothesis]. </b>"
   ]
  },
  {
   "cell_type": "markdown",
   "metadata": {
    "colab_type": "text",
    "id": "RilxuS8OzvQG"
   },
   "source": [
    "<b> Null Hypothesis : The AV on cloudy days has same disengagement on clear days</b>"
   ]
  },
  {
   "cell_type": "markdown",
   "metadata": {
    "colab_type": "text",
    "id": "aSE5LXmCzqy0"
   },
   "source": [
    "<b> Alternative Hypothesis : The AV has more disengagement on cloudy days than clear days </b>"
   ]
  },
  {
   "cell_type": "code",
   "execution_count": 78,
   "metadata": {
    "colab": {
     "base_uri": "https://localhost:8080/",
     "height": 34
    },
    "colab_type": "code",
    "id": "BbvkkFOWeACo",
    "outputId": "838e57d7-69ca-4229-821c-b51f43044a04"
   },
   "outputs": [
    {
     "name": "stdout",
     "output_type": "stream",
     "text": [
      "7.64\n"
     ]
    }
   ],
   "source": [
    "import math as m\n",
    "\n",
    "Number_of_cloudy_disengagements=835\n",
    "Number_of_clear_disengagements=189\n",
    "\n",
    "Prob_cloudy_day=0.28\n",
    "Prob_clear_day=(1-0.28)\n",
    "\n",
    "Mean_cloudy_disengagements= 835*0.28\n",
    "std_cloudy_disengagements= m.sqrt(835*0.28*0.72)\n",
    "Mean_clear_disengagements= 189*0.72\n",
    "std_clear_disengagements= m.sqrt(835*0.72*0.28)\n",
    "\n",
    "z=(Mean_cloudy_disengagements-Mean_clear_disengagements)/m.sqrt(Mean_cloudy_disengagements**2/835+Mean_clear_disengagements**2/189)\n",
    "print(round(z,2))"
   ]
  },
  {
   "cell_type": "code",
   "execution_count": 79,
   "metadata": {
    "colab": {
     "base_uri": "https://localhost:8080/",
     "height": 34
    },
    "colab_type": "code",
    "id": "SvWwdcIleACr",
    "outputId": "3e0f5039-594c-4b55-8855-873d4842c7a8"
   },
   "outputs": [
    {
     "name": "stdout",
     "output_type": "stream",
     "text": [
      "We reject the Null Hypothesis : The AV on cloudy days has same disengagement on clear days\n"
     ]
    }
   ],
   "source": [
    "from scipy.stats import t\n",
    "df=Number_of_cloudy_disengagements+Number_of_clear_disengagements-1\n",
    "alpha=0.05#Significance level given in the question\n",
    "cv = t.ppf(1.0 - alpha, df)\n",
    "p = (1 - t.cdf(abs(z), df)) * 2\n",
    "if p<0.05:\n",
    "    print(\"We reject the Null Hypothesis : The AV on cloudy days has same disengagement on clear days\")\n",
    "else:\n",
    "    print(\"We fail  to reject the Null Hypothesis : The AV has more disengagement on cloudy days than clear days\")"
   ]
  },
  {
   "cell_type": "markdown",
   "metadata": {
    "colab_type": "text",
    "id": "sD7AHYBjeACu"
   },
   "source": [
    "<b>4. Conditional probability on reaction time</b>\n",
    "\n",
    "<b>Conditional Probability :  P(Dm | Cloudy)=P(Dm,Cloudy | P(C)</b>"
   ]
  },
  {
   "cell_type": "code",
   "execution_count": 80,
   "metadata": {
    "colab": {
     "base_uri": "https://localhost:8080/",
     "height": 34
    },
    "colab_type": "code",
    "id": "XG_JxkCAeACv",
    "outputId": "b38e2409-89f7-4d9c-bb47-10841b9f981c"
   },
   "outputs": [
    {
     "name": "stdout",
     "output_type": "stream",
     "text": [
      "The Probability of disengagement per mile on a cloudy day is 0.47\n"
     ]
    }
   ],
   "source": [
    "Prob1= len(df_diseng[(df_diseng['ReactionTime']>0.6) & (df_diseng['TypeOfTrigger']=='automatic') & (df_diseng['Weather']=='cloudy')])/len(df_diseng[(df_diseng['TypeOfTrigger']=='automatic') & (df_diseng['Weather']=='cloudy')])\n",
    "print(\"The Probability of disengagement per mile on a cloudy day is {}\".format(round(Prob1,2)))"
   ]
  },
  {
   "cell_type": "markdown",
   "metadata": {
    "colab_type": "text",
    "id": "D9RekV9eeACy"
   },
   "source": [
    "<b>Conditional Probability :  P(Dm | Clear)=P(Dm,Clear)/P(Clear)</b>"
   ]
  },
  {
   "cell_type": "code",
   "execution_count": 81,
   "metadata": {
    "colab": {
     "base_uri": "https://localhost:8080/",
     "height": 34
    },
    "colab_type": "code",
    "id": "wD4f3HU5eACz",
    "outputId": "607d8c03-5bd4-483f-dc6b-35552870f230"
   },
   "outputs": [
    {
     "name": "stdout",
     "output_type": "stream",
     "text": [
      "The Probability of disengagement per mile on a cloudy day is 0.28\n"
     ]
    }
   ],
   "source": [
    "Prob2= len(df_diseng[(df_diseng['ReactionTime']>0.9) & (df_diseng['TypeOfTrigger']=='automatic') & (df_diseng['Weather']=='clear')])/len(df_diseng[(df_diseng['TypeOfTrigger']=='automatic') & (df_diseng['Weather']=='clear')])\n",
    "print(\"The Probability of disengagement per mile on a cloudy day is {}\".format(round(Prob2,2)))"
   ]
  },
  {
   "cell_type": "markdown",
   "metadata": {
    "colab_type": "text",
    "id": "8IkXDvUdeAC1"
   },
   "source": [
    "<b>5. Probability on Accident per mile</b>"
   ]
  },
  {
   "cell_type": "markdown",
   "metadata": {
    "colab_type": "text",
    "id": "8cjxytvWeAC1"
   },
   "source": [
    "<b>Theorem of total probability would be <br>\n",
    "P(accident per mile)=P(Dm | Cloudy)*P(Cloudy) + P(Dm | clear)*P(clear)</b>"
   ]
  },
  {
   "cell_type": "code",
   "execution_count": 82,
   "metadata": {
    "colab": {
     "base_uri": "https://localhost:8080/",
     "height": 34
    },
    "colab_type": "code",
    "id": "d19ky-zJeAC2",
    "outputId": "05015253-4300-44b5-ffa3-f7d76055079a"
   },
   "outputs": [
    {
     "name": "stdout",
     "output_type": "stream",
     "text": [
      "The Probability of Accident per mile on a cloudy day is 0.34\n"
     ]
    }
   ],
   "source": [
    "Prob3 = Prob1*0.28+Prob2*0.72\n",
    "print(\"The Probability of Accident per mile on a cloudy day is {}\".format(round(Prob3,2)))"
   ]
  },
  {
   "cell_type": "markdown",
   "metadata": {
    "colab_type": "text",
    "id": "jIO-4P92eAC5"
   },
   "source": [
    "<b>6. The probability of a human driver causing a car accident is 2x10-6 [4]. How do AVs compare to human drivers?<br>\n",
    "Justify your conclusion and explain its consequences </b>"
   ]
  },
  {
   "cell_type": "markdown",
   "metadata": {
    "colab_type": "text",
    "id": "WRSeM9DaeAC6"
   },
   "source": [
    "<b>The probability of human driver causing a car accident is 2*10^-4 while the probability of AV for the same comes to be 0.34. There is a bigger risk associated with AV's as they can't be trained with all the possible scenarios of accident that happens in the real life.\n",
    "\n",
    "On the other hand, the humans react to any known/unknown signs of danger and their sudden response would to avoid accidents and mitigate the impact\n",
    "\n",
    "Training the system with lesser data and of low variance can result in high probability of fatalities happening in the road. The system needs to be trained with different conditions like the weather, road and cities "
   ]
  },
  {
   "cell_type": "markdown",
   "metadata": {
    "colab_type": "text",
    "id": "7kgHa1cpeAC8"
   },
   "source": [
    "<b>7. KS Test</b>"
   ]
  },
  {
   "cell_type": "markdown",
   "metadata": {
    "colab_type": "text",
    "id": "sSwb9w4ceAC-"
   },
   "source": [
    "<b>Initially, we need to formulate the hypothesis for this test <br>\n",
    "H0: Both the samples (clear and cloudy)come from the same distribution <br>\n",
    "HA: Both the samples (clear and cloudy) come doesn't from the same distribution</b>                        "
   ]
  },
  {
   "cell_type": "code",
   "execution_count": 83,
   "metadata": {
    "colab": {
     "base_uri": "https://localhost:8080/",
     "height": 34
    },
    "colab_type": "code",
    "id": "korJlibweAC_",
    "outputId": "5c37c6d8-80a1-4a72-b8db-0c053cf84416"
   },
   "outputs": [
    {
     "data": {
      "text/plain": [
       "Ks_2sampResult(statistic=0.0562290092359361, pvalue=0.9627569177461736)"
      ]
     },
     "execution_count": 83,
     "metadata": {},
     "output_type": "execute_result"
    }
   ],
   "source": [
    "from scipy import stats\n",
    "\n",
    "Reaction_time_cloudy=df_diseng[(df_diseng['Weather']=='cloudy') & (df_diseng['TypeOfTrigger']=='automatic')]['ReactionTime']\n",
    "Reaction_time_clear=df_diseng[(df_diseng['Weather']=='clear') & (df_diseng['TypeOfTrigger']=='automatic') ]['ReactionTime']\n",
    "\n",
    "stats.ks_2samp(Reaction_time_cloudy, Reaction_time_clear)\n"
   ]
  },
  {
   "cell_type": "markdown",
   "metadata": {
    "colab_type": "text",
    "id": "C25Be0acnBsT"
   },
   "source": []
  },
  {
   "cell_type": "markdown",
   "metadata": {
    "colab_type": "text",
    "id": "RYYQeDvieADB"
   },
   "source": [
    "<b>\n",
    "The given significance level is 0.1 (alpha) From the ks test, we get the P value as 0.95\n",
    "\n",
    "Decision rule:\n",
    "If pvalue < alpha, then we reject the NULL hypothesis<br>\n",
    "else we fail to reject the NULL hypothesis or accept the alternate hypothesis<br>\n",
    "\n",
    "Here 0.95>0.1,so we fail to reject the NULL hypothesis i.e. both the samples come from the same distribution <br>\n",
    "\n",
    "We can conclude that the weather be it cloudy or clear doesn't have any impact on the disengagement reaction time.</b>"
   ]
  },
  {
   "cell_type": "markdown",
   "metadata": {
    "colab_type": "text",
    "id": "I6Wtb_vREVR4"
   },
   "source": [
    "<b>Task 3</b>"
   ]
  },
  {
   "cell_type": "markdown",
   "metadata": {
    "colab_type": "text",
    "id": "1pzq-Ki-ENSq"
   },
   "source": [
    "<b>1. Modify your pandas data frame to include a ‘Class’ column</b>"
   ]
  },
  {
   "cell_type": "code",
   "execution_count": 84,
   "metadata": {
    "colab": {},
    "colab_type": "code",
    "id": "Y2ApJBgHeADC"
   },
   "outputs": [],
   "source": [
    "df_diseng.loc[df_diseng['Cause'].isin ([\"Incorrect behavior prediction of others\",\n",
    "                                        \"Recklessly behaving agent\",\n",
    "                                       \"Unwanted Driver Discomfort\"]),'class'] = 'Controller'\n",
    "df_diseng.loc[df_diseng['Cause'].isin ([\"Adverse road surface conditions\",\n",
    "                                        \"Emergency Vehicle\",\n",
    "                                       \"Position Estimation Failure\",\n",
    "                                       \"Incorrect Traffic Light Detection\"]),'class'] = 'Perception System'\n",
    "\n",
    "df_diseng.loc[df_diseng['Cause'].isin ([\"System Tuning and Calibration\",\n",
    "                                        \"Hardware Fault\",\n",
    "                                       \"Software Froze\"]),'class'] = 'Computer System'\n",
    "                                       "
   ]
  },
  {
   "cell_type": "markdown",
   "metadata": {
    "colab_type": "text",
    "id": "1nRvXELZEhjw"
   },
   "source": [
    "<b>Split the data randomly into training and testing (80-20 split). Use the fields ‘Location’, ‘Weather’, and ‘TypeOfTrigger’ as features and use ‘Class’ as assigned in the previous question as the label</b>"
   ]
  },
  {
   "cell_type": "code",
   "execution_count": 85,
   "metadata": {
    "colab": {},
    "colab_type": "code",
    "id": "TcNfVnr-EHW3"
   },
   "outputs": [],
   "source": [
    "from sklearn import preprocessing\n",
    "#creating labelEncoder\n",
    "le = preprocessing.LabelEncoder()\n",
    "# Converting string labels into numbers.\n",
    "df_diseng['Location_encoded']=le.fit_transform(df_diseng['Location'])\n",
    "df_diseng['Weather_encoded']=le.fit_transform(df_diseng['Weather'])\n",
    "df_diseng['TypeOfTrigger_encoded']=le.fit_transform(df_diseng['TypeOfTrigger'])\n",
    "df_diseng['class_encoded']=le.fit_transform(df_diseng['class'])\n"
   ]
  },
  {
   "cell_type": "code",
   "execution_count": 86,
   "metadata": {
    "colab": {},
    "colab_type": "code",
    "id": "DCgES0283u4c"
   },
   "outputs": [],
   "source": [
    "from sklearn.model_selection import train_test_split\n",
    "X=df_diseng[['Location_encoded','Weather_encoded','TypeOfTrigger_encoded']]\n",
    "y=df_diseng[['class_encoded']]"
   ]
  },
  {
   "cell_type": "code",
   "execution_count": 87,
   "metadata": {
    "colab": {},
    "colab_type": "code",
    "id": "DI8WZcxQEkyg"
   },
   "outputs": [],
   "source": [
    "X_train, X_test, y_train, y_test = train_test_split(X, y, test_size=0.20, random_state=60) "
   ]
  },
  {
   "cell_type": "markdown",
   "metadata": {
    "colab_type": "text",
    "id": "pBuyRrqY39QL"
   },
   "source": [
    "<b>3. Using the training dataset, create a NB model to identify the cause of disengagement based on the features ‘Location’, ‘Weather’, and ‘TypeOfTrigger’. Show the conditional probability tables from the training dataset "
   ]
  },
  {
   "cell_type": "code",
   "execution_count": 88,
   "metadata": {
    "colab": {
     "base_uri": "https://localhost:8080/",
     "height": 71
    },
    "colab_type": "code",
    "id": "wI91JNPY37iP",
    "outputId": "c9d9a3dc-703d-4de5-a2d1-a25dd891a281"
   },
   "outputs": [
    {
     "name": "stderr",
     "output_type": "stream",
     "text": [
      "C:\\Users\\aniru\\Anaconda3\\lib\\site-packages\\sklearn\\utils\\validation.py:724: DataConversionWarning: A column-vector y was passed when a 1d array was expected. Please change the shape of y to (n_samples, ), for example using ravel().\n",
      "  y = column_or_1d(y, warn=True)\n"
     ]
    }
   ],
   "source": [
    "#Import Gaussian Naive Bayes model\n",
    "from sklearn.naive_bayes import GaussianNB\n",
    "\n",
    "#Create a Gaussian Classifier\n",
    "gnb = GaussianNB()\n",
    "\n",
    "#Train the model using the training sets\n",
    "model=gnb.fit(X_train, y_train)\n",
    "\n",
    "##Making predictions based on the test set\n",
    "y_pred=model.predict(X_test)  "
   ]
  },
  {
   "cell_type": "code",
   "execution_count": 97,
   "metadata": {},
   "outputs": [
    {
     "name": "stdout",
     "output_type": "stream",
     "text": [
      "       Location              class    0\n",
      "0       highway    Computer System   16\n",
      "1  urban-street    Computer System  226\n",
      "2  urban-street         Controller  294\n",
      "3  urban-street  Perception System  283\n",
      "  Weather              class    0\n",
      "0   clear    Computer System  149\n",
      "1  cloudy    Computer System   93\n",
      "2  cloudy         Controller  294\n",
      "3  cloudy  Perception System  283\n",
      "  TypeOfTrigger              class    0\n",
      "0     automatic    Computer System  112\n",
      "3        manual    Computer System  130\n",
      "1     automatic         Controller   35\n",
      "4        manual         Controller  259\n",
      "2     automatic  Perception System  239\n",
      "5        manual  Perception System   44\n"
     ]
    }
   ],
   "source": [
    "X1=df_diseng[['Location','Weather','TypeOfTrigger']]\n",
    "y1=df_diseng[['class']]\n",
    "X_train1, X_test1, y_train1, y_test1 = train_test_split(X1, y1, test_size=0.20, random_state=101)\n",
    "\n",
    "\n",
    "Conditional_prob = pd.concat([X_train1, y_train1], axis=1)\n",
    "Location = Conditional_prob.groupby(['Location', 'class']).size().reset_index().sort_values('class')\n",
    "Weather = Conditional_prob.groupby(['Weather', 'class']).size().reset_index().sort_values('class')\n",
    "trigger = Conditional_prob.groupby(['TypeOfTrigger', 'class']).size().reset_index().sort_values('class')\n",
    "\n",
    "#Conditional Probability tables#\n",
    "print(Location)\n",
    "print(Weather)\n",
    "print(trigger)"
   ]
  },
  {
   "cell_type": "markdown",
   "metadata": {
    "colab_type": "text",
    "id": "ukmZCPKRDvQl"
   },
   "source": [
    "<b> 4.) Calculating the accuracy of the model using the confusion matrix and classification report </b>"
   ]
  },
  {
   "cell_type": "code",
   "execution_count": 90,
   "metadata": {
    "colab": {
     "base_uri": "https://localhost:8080/",
     "height": 533
    },
    "colab_type": "code",
    "id": "swPAyURzNZxT",
    "outputId": "22b41824-af2f-4f30-c35a-9d9937395965"
   },
   "outputs": [
    {
     "name": "stdout",
     "output_type": "stream",
     "text": [
      "              precision    recall  f1-score   support\n",
      "\n",
      "           0       0.98      0.75      0.85        61\n",
      "           1       0.78      0.86      0.82        76\n",
      "           2       0.73      0.81      0.77        68\n",
      "\n",
      "    accuracy                           0.81       205\n",
      "   macro avg       0.83      0.81      0.81       205\n",
      "weighted avg       0.82      0.81      0.81       205\n",
      "\n",
      "The encoding for each class is as follows which can be referred to analyze the classification report of each class\n",
      "  0 : Perception system \n",
      "  1 : Controller \n",
      "  2 : Computer system\n"
     ]
    },
    {
     "data": {
      "image/png": "[encoded data removed]",
      "text/plain": [
       "<Figure size 432x288 with 1 Axes>"
      ]
     },
     "metadata": {
      "needs_background": "light"
     },
     "output_type": "display_data"
    }
   ],
   "source": [
    "from sklearn.metrics import confusion_matrix\n",
    "mat = confusion_matrix(y_pred, y_test)\n",
    "sns.heatmap(mat.T, square=True, annot=True, fmt='d', cbar=False,\n",
    "            xticklabels=['perception system', 'controller', 'computer system'],yticklabels=['perception system', 'controller', 'computer system'])\n",
    "plt.xlabel('true label')\n",
    "plt.ylabel('predicted label')\n",
    "plt.title('Confusion Matrix')\n",
    "from sklearn.metrics import classification_report,confusion_matrix\n",
    "cr=classification_report(y_test,y_pred)\n",
    "print(cr)  ###classification report \n",
    "print('The encoding for each class is as follows which can be referred to analyze the classification report of each class')\n",
    "print('  0 : Perception system \\n  1 : Controller \\n  2 : Computer system')"
   ]
  },
  {
   "cell_type": "code",
   "execution_count": 91,
   "metadata": {
    "colab": {
     "base_uri": "https://localhost:8080/",
     "height": 34
    },
    "colab_type": "code",
    "id": "Ryrum7Xs4Ua4",
    "outputId": "0e2055f2-78ac-4e26-88c5-830cde968b93"
   },
   "outputs": [
    {
     "name": "stdout",
     "output_type": "stream",
     "text": [
      "accuracy of the model with the validation set approach came to be 80.97999999999999 %\n"
     ]
    }
   ],
   "source": [
    "accuracy =mat.diagonal().sum() / mat.sum()\n",
    "print(f\"accuracy of the model with the validation set approach came to be {round(accuracy,4) *100} %\")"
   ]
  },
  {
   "cell_type": "markdown",
   "metadata": {
    "colab_type": "text",
    "id": "hJrnrfwcMKfg"
   },
   "source": [
    "<b> 5.) Performing cross validation to get a better estimate of the accuracy </b>"
   ]
  },
  {
   "cell_type": "code",
   "execution_count": 92,
   "metadata": {
    "colab": {
     "base_uri": "https://localhost:8080/",
     "height": 428
    },
    "colab_type": "code",
    "id": "ACvBLP5rNo4t",
    "outputId": "d6658db3-9cbb-4e6f-8db3-6d3843ca2d9f"
   },
   "outputs": [
    {
     "name": "stdout",
     "output_type": "stream",
     "text": [
      "[0.42439024 0.50731707 0.83902439 0.42439024 0.74019608]\n"
     ]
    },
    {
     "name": "stderr",
     "output_type": "stream",
     "text": [
      "C:\\Users\\aniru\\Anaconda3\\lib\\site-packages\\sklearn\\utils\\validation.py:724: DataConversionWarning: A column-vector y was passed when a 1d array was expected. Please change the shape of y to (n_samples, ), for example using ravel().\n",
      "  y = column_or_1d(y, warn=True)\n",
      "C:\\Users\\aniru\\Anaconda3\\lib\\site-packages\\sklearn\\utils\\validation.py:724: DataConversionWarning: A column-vector y was passed when a 1d array was expected. Please change the shape of y to (n_samples, ), for example using ravel().\n",
      "  y = column_or_1d(y, warn=True)\n",
      "C:\\Users\\aniru\\Anaconda3\\lib\\site-packages\\sklearn\\utils\\validation.py:724: DataConversionWarning: A column-vector y was passed when a 1d array was expected. Please change the shape of y to (n_samples, ), for example using ravel().\n",
      "  y = column_or_1d(y, warn=True)\n",
      "C:\\Users\\aniru\\Anaconda3\\lib\\site-packages\\sklearn\\utils\\validation.py:724: DataConversionWarning: A column-vector y was passed when a 1d array was expected. Please change the shape of y to (n_samples, ), for example using ravel().\n",
      "  y = column_or_1d(y, warn=True)\n",
      "C:\\Users\\aniru\\Anaconda3\\lib\\site-packages\\sklearn\\utils\\validation.py:724: DataConversionWarning: A column-vector y was passed when a 1d array was expected. Please change the shape of y to (n_samples, ), for example using ravel().\n",
      "  y = column_or_1d(y, warn=True)\n",
      "C:\\Users\\aniru\\Anaconda3\\lib\\site-packages\\sklearn\\utils\\validation.py:724: DataConversionWarning: A column-vector y was passed when a 1d array was expected. Please change the shape of y to (n_samples, ), for example using ravel().\n",
      "  y = column_or_1d(y, warn=True)\n",
      "C:\\Users\\aniru\\Anaconda3\\lib\\site-packages\\sklearn\\utils\\validation.py:724: DataConversionWarning: A column-vector y was passed when a 1d array was expected. Please change the shape of y to (n_samples, ), for example using ravel().\n",
      "  y = column_or_1d(y, warn=True)\n",
      "C:\\Users\\aniru\\Anaconda3\\lib\\site-packages\\sklearn\\utils\\validation.py:724: DataConversionWarning: A column-vector y was passed when a 1d array was expected. Please change the shape of y to (n_samples, ), for example using ravel().\n",
      "  y = column_or_1d(y, warn=True)\n",
      "C:\\Users\\aniru\\Anaconda3\\lib\\site-packages\\sklearn\\utils\\validation.py:724: DataConversionWarning: A column-vector y was passed when a 1d array was expected. Please change the shape of y to (n_samples, ), for example using ravel().\n",
      "  y = column_or_1d(y, warn=True)\n",
      "C:\\Users\\aniru\\Anaconda3\\lib\\site-packages\\sklearn\\utils\\validation.py:724: DataConversionWarning: A column-vector y was passed when a 1d array was expected. Please change the shape of y to (n_samples, ), for example using ravel().\n",
      "  y = column_or_1d(y, warn=True)\n"
     ]
    }
   ],
   "source": [
    "from sklearn.model_selection import KFold, cross_val_score\n",
    "k_fold =KFold(n_splits=5, shuffle=False, random_state=60)\n",
    "clf = GaussianNB()\n",
    "print(cross_val_score(clf, X, y, cv=k_fold, n_jobs=1))\n",
    "CV_accuracy=cross_val_score(clf, X, y, cv=k_fold, n_jobs=1)"
   ]
  },
  {
   "cell_type": "code",
   "execution_count": 93,
   "metadata": {
    "colab": {
     "base_uri": "https://localhost:8080/",
     "height": 34
    },
    "colab_type": "code",
    "id": "74OYPywvOPNv",
    "outputId": "5c5ea35c-b86d-4c09-91aa-8d0452d2e3ff"
   },
   "outputs": [
    {
     "name": "stdout",
     "output_type": "stream",
     "text": [
      "CV_accuracy_average : 58.70636059301769\n"
     ]
    }
   ],
   "source": [
    "from math import *\n",
    "CV_accuracy_average=np.mean(CV_accuracy)*100\n",
    "print(f'CV_accuracy_average : {CV_accuracy_average}')"
   ]
  },
  {
   "cell_type": "code",
   "execution_count": 94,
   "metadata": {
    "colab": {
     "base_uri": "https://localhost:8080/",
     "height": 224
    },
    "colab_type": "code",
    "id": "eEg6NFnqOShb",
    "outputId": "153e47e8-a163-4daa-a88b-5a28cde07840"
   },
   "outputs": [
    {
     "name": "stderr",
     "output_type": "stream",
     "text": [
      "C:\\Users\\aniru\\Anaconda3\\lib\\site-packages\\sklearn\\utils\\validation.py:724: DataConversionWarning: A column-vector y was passed when a 1d array was expected. Please change the shape of y to (n_samples, ), for example using ravel().\n",
      "  y = column_or_1d(y, warn=True)\n",
      "C:\\Users\\aniru\\Anaconda3\\lib\\site-packages\\sklearn\\utils\\validation.py:724: DataConversionWarning: A column-vector y was passed when a 1d array was expected. Please change the shape of y to (n_samples, ), for example using ravel().\n",
      "  y = column_or_1d(y, warn=True)\n",
      "C:\\Users\\aniru\\Anaconda3\\lib\\site-packages\\sklearn\\utils\\validation.py:724: DataConversionWarning: A column-vector y was passed when a 1d array was expected. Please change the shape of y to (n_samples, ), for example using ravel().\n",
      "  y = column_or_1d(y, warn=True)\n",
      "C:\\Users\\aniru\\Anaconda3\\lib\\site-packages\\sklearn\\utils\\validation.py:724: DataConversionWarning: A column-vector y was passed when a 1d array was expected. Please change the shape of y to (n_samples, ), for example using ravel().\n",
      "  y = column_or_1d(y, warn=True)\n",
      "C:\\Users\\aniru\\Anaconda3\\lib\\site-packages\\sklearn\\utils\\validation.py:724: DataConversionWarning: A column-vector y was passed when a 1d array was expected. Please change the shape of y to (n_samples, ), for example using ravel().\n",
      "  y = column_or_1d(y, warn=True)\n"
     ]
    },
    {
     "data": {
      "text/plain": [
       "60.0"
      ]
     },
     "execution_count": 94,
     "metadata": {},
     "output_type": "execute_result"
    }
   ],
   "source": [
    "random_state=[None , 101 , 42 ,1 ,10 ]\n",
    "accuracy_list=[]\n",
    "def cross_validation(random_state,accuracy_list):\n",
    "    \"\"\"\n",
    "    Summary line : This function will do cross validation using 20% data as test set and 80% data as training set\n",
    "                   using different random seeds \n",
    "  \n",
    "    Parameters: \n",
    "    arg1 : random_state : A list containing different random state values\n",
    "    arg2 : accuracy_list : an empty list which will hold 5 different accuracies for all the models \n",
    "  \n",
    "    Returns: \n",
    "    average accuracy of all the models\n",
    "    \n",
    "    \"\"\"\n",
    "    \n",
    "    for num in random_state:\n",
    "        X_train, X_test, y_train, y_test = train_test_split(X, y, test_size=0.20, random_state=num) \n",
    "        from sklearn.naive_bayes import GaussianNB\n",
    "\n",
    "        #Create a Gaussian Classifier\n",
    "        gnb = GaussianNB()\n",
    "\n",
    "        #Train the model using the training sets\n",
    "        model=gnb.fit(X_train, y_train)\n",
    "        y_pred=model.predict(X_test)\n",
    "        from sklearn.metrics import confusion_matrix\n",
    "        cm=confusion_matrix(y_test,y_pred)\n",
    "        accuracy =cm.diagonal().sum() / cm.sum()\n",
    "        accuracy_list.append(accuracy)\n",
    "    return (np.mean(accuracy_list)*100)  \n",
    "cross_validation(random_state,accuracy_list)  \n",
    "    "
   ]
  },
  {
   "cell_type": "code",
   "execution_count": 96,
   "metadata": {
    "colab": {
     "base_uri": "https://localhost:8080/",
     "height": 299
    },
    "colab_type": "code",
    "id": "vm5ok2PLbK9h",
    "outputId": "3d48ccda-8d1c-414e-c696-d89e3120aac5"
   },
   "outputs": [
    {
     "data": {
      "image/png": "[encoded data removed]",
      "text/plain": [
       "<Figure size 432x288 with 1 Axes>"
      ]
     },
     "metadata": {
      "needs_background": "light"
     },
     "output_type": "display_data"
    }
   ],
   "source": [
    "with plt.style.context('tableau-colorblind10'):\n",
    "      plt.plot( [1,2,3,4,5], accuracy_list, marker='o', markerfacecolor='red', markersize=12, color='skyblue', linewidth=4) \n",
    "      plt.xlabel('Accuracy of each trial from 1 to 5')\n",
    "      plt.ylabel('Percentage of accuracy')\n",
    "      plt.title('Cross validation accuracy plot')\n",
    "      plt.show()"
   ]
  },
  {
   "cell_type": "markdown",
   "metadata": {
    "colab_type": "text",
    "id": "9EURgGhfd36Q"
   },
   "source": [
    " **6.) Is the NB model doing better than chance? Explain.**"
   ]
  },
  {
   "cell_type": "markdown",
   "metadata": {
    "colab_type": "text",
    "id": "8Vs2GbYHpNFQ"
   },
   "source": [
    "\n",
    "Yes, the NB model is performing better than chance. The model predictions were nearly <b>75 % </b> correct for the test data set when we used the <b> validation set approach </b>. We further validated this accuracy by performing k-fold cross validation approach (using Sklearn library and manually coding the k-fold CV). In both the cases the minimum average accuracy we achieved was nearly <b>58% (accuracy range: 58% - 64%).</b> By randomly guessing, we can have at max 50% correct predictions, which is lower than the accuracy achieved by the NB model. "
   ]
  },
  {
   "cell_type": "markdown",
   "metadata": {
    "colab_type": "text",
    "id": "LCQjvR1FqHdd"
   },
   "source": [
    "<b> 7.) What are the assumptions in NB in the context of this problem? Are the assumptions realistic? Explain. </b>"
   ]
  },
  {
   "cell_type": "markdown",
   "metadata": {
    "colab_type": "text",
    "id": "ABlgbJX0qUp8"
   },
   "source": [
    "**Assumption:**\n",
    "\n",
    "Naive Bayes assumes that the features are class conditionally independent (independent given/conditioning on the class) which may not always hold in a real-world problem. Here we have three features, which we assume to be independent<br>\n",
    "\n",
    "1) Location<br>\n",
    "2) Weather<br>\n",
    "3) Type of Trigger<br>\n",
    "\n",
    "No. The assumptions are not completely realistic. <br>\n",
    "1) The location (urban-street and highway) where the AV is driven doesn’t depend on the weather. <br>\n",
    "2) Also the type of trigger is not related to the weather <br>\n",
    "3) The type of trigger can depend on the location where the AV is driven. For instance, if the AV is driven in urban street, there are more chances of risk which can lead to the driver taking control of the vehicle."
   ]
  },
  {
   "cell_type": "markdown",
   "metadata": {
    "colab_type": "text",
    "id": "l1cpY49dwrrG"
   },
   "source": [
    "<b> 8) Based on your answer to part 7, comment on whether any improvements can be gained in classification accuracy. If yes, how? </b>"
   ]
  },
  {
   "cell_type": "markdown",
   "metadata": {
    "colab_type": "text",
    "id": "EhVbeZNkw2pT"
   },
   "source": [
    "1.) Here we have a quite small dataset, a general approach which can increase the accuracy is collecting more data as training a model on a more diverse dataset which has more variability can result in a model with better accuracy score\n",
    "\n",
    "2) Bayesian Networks do not assume class conditional independence and hence could have been a better choice for this problem and thus might have produced a higher accuracy\n",
    "\n",
    "3) Since the assumption of the naive Bayes may not be applicable in context of this problem, one way to improve the model accuracy is to use a different classification process like Linear Discriminant Analysis, Quadratic Discriminant Analysis, Multi-class logistic regression.\n",
    "\n",
    "4) Ensemble models which involves combining multiple models to improve the accuracy using bagging and boosting. Ensemble Learning can improve the predictive performance more than any single model."
   ]
  },
  {
   "cell_type": "code",
   "execution_count": null,
   "metadata": {},
   "outputs": [],
   "source": []
  }
 ],
 "metadata": {
  "colab": {
   "collapsed_sections": [],
   "name": "anunays2_MP1",
   "provenance": []
  },
  "kernelspec": {
   "display_name": "Python 3",
   "language": "python",
   "name": "python3"
  },
  "language_info": {
   "codemirror_mode": {
    "name": "ipython",
    "version": 3
   },
   "file_extension": ".py",
   "mimetype": "text/x-python",
   "name": "python",
   "nbconvert_exporter": "python",
   "pygments_lexer": "ipython3",
   "version": "3.7.3"
  }
 },
 "nbformat": 4,
 "nbformat_minor": 1
}
